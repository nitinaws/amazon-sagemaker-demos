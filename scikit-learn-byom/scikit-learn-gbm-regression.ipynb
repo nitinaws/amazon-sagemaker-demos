{
 "cells": [
  {
   "cell_type": "markdown",
   "metadata": {},
   "source": [
    "#### Train scikit-learn GBM algorithm locally on SageMaker Notebook"
   ]
  },
  {
   "cell_type": "code",
   "execution_count": 1,
   "metadata": {},
   "outputs": [
    {
     "name": "stdout",
     "output_type": "stream",
     "text": [
      "Automatically created module for IPython interactive environment\n"
     ]
    },
    {
     "name": "stderr",
     "output_type": "stream",
     "text": [
      "/home/ec2-user/anaconda3/envs/python3/lib/python3.6/site-packages/sklearn/ensemble/weight_boosting.py:29: DeprecationWarning: numpy.core.umath_tests is an internal NumPy module and should not be imported. It will be removed in a future NumPy release.\n",
      "  from numpy.core.umath_tests import inner1d\n"
     ]
    },
    {
     "name": "stdout",
     "output_type": "stream",
     "text": [
      "MSE: 6.5313\n"
     ]
    },
    {
     "data": {
      "image/png": "[encoded data removed]",
      "text/plain": [
       "<Figure size 864x432 with 2 Axes>"
      ]
     },
     "metadata": {},
     "output_type": "display_data"
    }
   ],
   "source": [
    "%matplotlib inline\n",
    "\n",
    "print(__doc__)\n",
    "\n",
    "# Author: Peter Prettenhofer <peter.prettenhofer@gmail.com>\n",
    "#\n",
    "# License: BSD 3 clause\n",
    "\n",
    "import numpy as np\n",
    "import matplotlib.pyplot as plt\n",
    "\n",
    "from sklearn import ensemble\n",
    "from sklearn import datasets\n",
    "from sklearn.utils import shuffle\n",
    "from sklearn.metrics import mean_squared_error\n",
    "\n",
    "# #############################################################################\n",
    "# Load data\n",
    "boston = datasets.load_boston()\n",
    "X, y = shuffle(boston.data, boston.target, random_state=13)\n",
    "X = X.astype(np.float32)\n",
    "offset = int(X.shape[0] * 0.9)\n",
    "X_train, y_train = X[:offset], y[:offset]\n",
    "X_test, y_test = X[offset:], y[offset:]\n",
    "\n",
    "# #############################################################################\n",
    "# Fit regression model\n",
    "params = {'n_estimators': 500, 'max_depth': 4, 'min_samples_split': 2,\n",
    "          'learning_rate': 0.01, 'loss': 'ls'}\n",
    "clf = ensemble.GradientBoostingRegressor(**params)\n",
    "\n",
    "clf.fit(X_train, y_train)\n",
    "mse = mean_squared_error(y_test, clf.predict(X_test))\n",
    "print(\"MSE: %.4f\" % mse)\n",
    "\n",
    "# #############################################################################\n",
    "# Plot training deviance\n",
    "\n",
    "# compute test set deviance\n",
    "test_score = np.zeros((params['n_estimators'],), dtype=np.float64)\n",
    "\n",
    "for i, y_pred in enumerate(clf.staged_predict(X_test)):\n",
    "    test_score[i] = clf.loss_(y_test, y_pred)\n",
    "\n",
    "plt.figure(figsize=(12, 6))\n",
    "plt.subplot(1, 2, 1)\n",
    "plt.title('Deviance')\n",
    "plt.plot(np.arange(params['n_estimators']) + 1, clf.train_score_, 'b-',\n",
    "         label='Training Set Deviance')\n",
    "plt.plot(np.arange(params['n_estimators']) + 1, test_score, 'r-',\n",
    "         label='Test Set Deviance')\n",
    "plt.legend(loc='upper right')\n",
    "plt.xlabel('Boosting Iterations')\n",
    "plt.ylabel('Deviance')\n",
    "\n",
    "# #############################################################################\n",
    "# Plot feature importance\n",
    "feature_importance = clf.feature_importances_\n",
    "# make importances relative to max importance\n",
    "feature_importance = 100.0 * (feature_importance / feature_importance.max())\n",
    "sorted_idx = np.argsort(feature_importance)\n",
    "pos = np.arange(sorted_idx.shape[0]) + .5\n",
    "plt.subplot(1, 2, 2)\n",
    "plt.barh(pos, feature_importance[sorted_idx], align='center')\n",
    "plt.yticks(pos, boston.feature_names[sorted_idx])\n",
    "plt.xlabel('Relative Importance')\n",
    "plt.title('Variable Importance')\n",
    "plt.show()"
   ]
  },
  {
   "cell_type": "markdown",
   "metadata": {},
   "source": [
    "#### Save the trained model"
   ]
  },
  {
   "cell_type": "code",
   "execution_count": 2,
   "metadata": {},
   "outputs": [],
   "source": [
    "import pickle\n",
    "\n",
    "filename = 'model.pkl'\n",
    "pickle.dump(clf, open(filename, 'wb'))"
   ]
  },
  {
   "cell_type": "markdown",
   "metadata": {},
   "source": [
    "#### Initialize SageMaker Session"
   ]
  },
  {
   "cell_type": "code",
   "execution_count": 3,
   "metadata": {},
   "outputs": [],
   "source": [
    "import sagemaker as sage\n",
    "from time import gmtime, strftime\n",
    "from sagemaker import get_execution_role\n",
    "from sagemaker.sklearn import SKLearnModel\n",
    "\n",
    "bucket='<your s3 bucket>'\n",
    "\n",
    "role = get_execution_role()\n",
    "sess = sage.Session()"
   ]
  },
  {
   "cell_type": "markdown",
   "metadata": {},
   "source": [
    "#### Compress the model and upload to S3 bucket"
   ]
  },
  {
   "cell_type": "code",
   "execution_count": 17,
   "metadata": {},
   "outputs": [
    {
     "name": "stdout",
     "output_type": "stream",
     "text": [
      "model.pkl\r\n"
     ]
    }
   ],
   "source": [
    "!tar -czvf model.tar.gz model.pkl\n",
    "prefix = 'scikit-gbm-pretrained/model'\n",
    "\n",
    "model_location = sess.upload_data(\"model.tar.gz\", bucket=bucket, key_prefix=prefix)\n",
    "!rm model.tar.gz\n",
    "!rm model.pkl"
   ]
  },
  {
   "cell_type": "markdown",
   "metadata": {},
   "source": [
    "#### Initialize the SageMaker Model using entrypoint file that provide model_fn, input_fn and output_fn. \n",
    "\n",
    "Refer to https://sagemaker.readthedocs.io/en/stable/using_sklearn.html#deploying-scikit-learn-models for details"
   ]
  },
  {
   "cell_type": "code",
   "execution_count": 15,
   "metadata": {},
   "outputs": [
    {
     "name": "stdout",
     "output_type": "stream",
     "text": [
      "import pickle\r\n",
      "import numpy as np\r\n",
      "import os\r\n",
      "import json\r\n",
      "from io import StringIO\r\n",
      "from six import BytesIO\r\n",
      "\r\n",
      "\r\n",
      "def model_fn(model_dir):\r\n",
      "    print(\"model_dir:{}\".format(model_dir))\r\n",
      "    with open(os.path.join(model_dir, 'model.pkl'), 'rb') as inp:\r\n",
      "        clf = pickle.load(inp)\r\n",
      "        return clf\r\n",
      "\r\n",
      "\r\n",
      "def input_fn(request_body, request_content_type):\r\n",
      "    \r\n",
      "    print(\"request_content_type :{}\".format(request_content_type))\r\n",
      "    \r\n",
      "    if request_content_type == 'text/csv':\r\n",
      "        # Read the raw input data as CSV.\r\n",
      "        npreq = np.genfromtxt(StringIO(request_body), delimiter=\",\")\r\n",
      "        print (\"shape of array:{}\".format(npreq.shape))\r\n",
      "        if npreq.ndim == 1:\r\n",
      "            npreq = np.array([npreq])\r\n",
      "        return npreq\r\n",
      "    elif request_content_type == 'application/x-npy':\r\n",
      "        return _npy_loads(request_body)\r\n",
      "    else:\r\n",
      "        raise ValueError(\"{} not supported by script!\".format(request_content_type))\r\n",
      "\r\n",
      "\r\n",
      "def output_fn(prediction, response_content_type):\r\n",
      "    \r\n",
      "    print(\"response_content_type :{}\".format(response_content_type))\r\n",
      "    \r\n",
      "    if response_content_type == \"application/x-npy\":\r\n",
      "        return _npy_dumps(prediction), 'application/x-npy'\r\n",
      "    elif response_content_type == 'text/csv':\r\n",
      "        output = StringIO()    \r\n",
      "        np.savetxt(output, prediction, delimiter='\\n')\r\n",
      "        return output.getvalue()\r\n",
      "    else:\r\n",
      "        raise ValueError(\"{} not supported by script!\".format(response_content_type))    \r\n",
      "                \r\n",
      "def predict_fn(input_data, model):\r\n",
      "    prediction = model.predict(input_data)\r\n",
      "    return np.array([prediction])\r\n",
      "\r\n",
      "def _npy_loads(data):\r\n",
      "    \"\"\"\r\n",
      "    Deserializes npy-formatted bytes into a numpy array\r\n",
      "    \"\"\"\r\n",
      "    stream = BytesIO(data)\r\n",
      "    return np.load(stream)\r\n",
      "\r\n",
      "def _npy_dumps(data):\r\n",
      "    \"\"\"\r\n",
      "    Serialized a numpy array into a stream of npy-formatted bytes.\r\n",
      "    \"\"\"\r\n",
      "    buffer = BytesIO()\r\n",
      "    np.save(buffer, data)\r\n",
      "    return buffer.getvalue()\r\n",
      "    "
     ]
    }
   ],
   "source": [
    "!cat gbm_predictor_entrypoint.py"
   ]
  },
  {
   "cell_type": "code",
   "execution_count": 9,
   "metadata": {},
   "outputs": [],
   "source": [
    "\n",
    "model_name = 'sagemaker-scikit-learn-gbm-' + strftime(\"%Y-%m-%d-%H-%M-%S\", gmtime())\n",
    "sklearn_model = SKLearnModel(model_data=model_location, \n",
    "                             role=role,\n",
    "                             name=model_name,\n",
    "                             entry_point=\"gbm_predictor_entrypoint.py\")\n"
   ]
  },
  {
   "cell_type": "markdown",
   "metadata": {},
   "source": [
    "#### Deploy the the model as SageMaker Endpoint"
   ]
  },
  {
   "cell_type": "code",
   "execution_count": 10,
   "metadata": {},
   "outputs": [
    {
     "name": "stdout",
     "output_type": "stream",
     "text": [
      "----------------------------------------------------------------------------------------------------!"
     ]
    }
   ],
   "source": [
    "predictor = sklearn_model.deploy(instance_type=\"ml.t2.medium\", initial_instance_count=1)"
   ]
  },
  {
   "cell_type": "markdown",
   "metadata": {},
   "source": [
    "#### Invoke Realtime Prediction"
   ]
  },
  {
   "cell_type": "code",
   "execution_count": 11,
   "metadata": {},
   "outputs": [
    {
     "data": {
      "text/plain": [
       "array([[15.45630765, 27.78556077, 24.11551881, 32.02075062, 10.40575671,\n",
       "        34.42146568, 21.82104997, 11.44006935, 13.08346821, 43.04691876,\n",
       "        33.00400493, 15.83309049, 23.89733528, 19.85234568, 25.21960401,\n",
       "        20.90926458, 13.62044534, 47.53451891, 17.64637288, 21.45384545,\n",
       "        22.45285259, 17.17153218, 16.41037479, 20.62238492, 14.51460491,\n",
       "        11.90968906, 24.58936937, 37.71601241, 30.43782783, 19.9052818 ,\n",
       "        23.1976153 , 25.15568911, 18.62201982, 30.34040875,  8.85520948,\n",
       "        13.69622405, 14.3609829 , 17.45462645, 19.83528506, 23.62740753,\n",
       "        20.38551657, 15.33379899, 25.82934672, 16.41125401, 19.17299686,\n",
       "        19.88662721, 21.39655525, 21.78775451, 24.37823586, 22.37496426,\n",
       "        22.5099118 ]])"
      ]
     },
     "execution_count": 11,
     "metadata": {},
     "output_type": "execute_result"
    }
   ],
   "source": [
    "predictor.predict(X_test)"
   ]
  },
  {
   "cell_type": "markdown",
   "metadata": {},
   "source": [
    "### Batch Prediction\n",
    "1. Save the Batch prediction input features(batch_input) to a CSV formatted file in S3\n",
    "2. Define output location in S3 (batch_output) where predictions will be saved"
   ]
  },
  {
   "cell_type": "code",
   "execution_count": null,
   "metadata": {},
   "outputs": [],
   "source": [
    "np.savetxt('batch_transform_input.csv', X_test, delimiter=',') \n",
    "prefix = 'scikit-gbm-pretrained/input'\n",
    "out_prefix = 'scikit-gbm-pretrained/output'\n",
    "batch_input = 's3://{}/{}'.format(bucket,prefix)\n",
    "batch_output = 's3://{}/{}'.format(bucket,out_prefix)\n",
    "sess.upload_data('batch_transform_input.csv', bucket=bucket, key_prefix=prefix)"
   ]
  },
  {
   "cell_type": "markdown",
   "metadata": {},
   "source": [
    "#### Define Batch prediction Request. We will use boto3 python package to start batch transform job\n",
    "\n",
    "Refer for more details https://boto3.amazonaws.com/v1/documentation/api/latest/reference/services/sagemaker.html#SageMaker.Client.create_transform_job"
   ]
  },
  {
   "cell_type": "code",
   "execution_count": 13,
   "metadata": {},
   "outputs": [],
   "source": [
    "batch_job_name = 'scikit-gbm-batch' + strftime(\"%Y-%m-%d-%H-%M-%S\", gmtime())\n",
    "\n",
    "request = \\\n",
    "{\n",
    "    \"TransformJobName\": batch_job_name,\n",
    "    \"ModelName\": model_name,\n",
    "    \"BatchStrategy\": \"MultiRecord\",\n",
    "    \"TransformOutput\": {\n",
    "        \"S3OutputPath\": batch_output,\n",
    "        \"Accept\": \"text/csv\",\n",
    "        \"AssembleWith\": \"Line\",\n",
    "    },\n",
    "    \"TransformInput\": {\n",
    "        \"DataSource\": {\n",
    "            \"S3DataSource\": {\n",
    "                \"S3DataType\": \"S3Prefix\",\n",
    "                \"S3Uri\": batch_input \n",
    "            }\n",
    "        },\n",
    "        \"ContentType\": \"text/csv\",\n",
    "        \"SplitType\": \"Line\",\n",
    "        \"CompressionType\": \"None\"\n",
    "    },\n",
    "    \"TransformResources\": {\n",
    "            \"InstanceType\": \"ml.m4.xlarge\",\n",
    "            \"InstanceCount\": 1\n",
    "    }\n",
    "}"
   ]
  },
  {
   "cell_type": "markdown",
   "metadata": {},
   "source": [
    "1. Create Batch prediction job\n",
    "2. Wait for job to finish\n",
    "3. Check Job run details in SageMaker console\n",
    "4. Check output predictions in CSV file in Amazon S3"
   ]
  },
  {
   "cell_type": "code",
   "execution_count": 14,
   "metadata": {},
   "outputs": [
    {
     "name": "stdout",
     "output_type": "stream",
     "text": [
      "Transform job is still in status: InProgress\n",
      "Transform job is still in status: InProgress\n",
      "Transform job is still in status: InProgress\n",
      "Transform job is still in status: InProgress\n",
      "Transform job is still in status: InProgress\n",
      "Transform job is still in status: InProgress\n",
      "Transform job is still in status: InProgress\n",
      "Transform job ended with status: Completed\n"
     ]
    }
   ],
   "source": [
    "import boto3\n",
    "import time\n",
    "sm = boto3.client('sagemaker')\n",
    "\n",
    "sm.create_transform_job(**request)\n",
    "                            \n",
    "while(True):\n",
    "    response = sm.describe_transform_job(TransformJobName=batch_job_name)\n",
    "    status = response['TransformJobStatus']\n",
    "    if  status == 'Completed':\n",
    "        print(\"Transform job ended with status: \" + status)\n",
    "        break\n",
    "    if status == 'Failed':\n",
    "        message = response['FailureReason']\n",
    "        print('Transform failed with the following error: {}'.format(message))\n",
    "        raise Exception('Transform job failed') \n",
    "    print(\"Transform job is still in status: \" + status)    \n",
    "    time.sleep(30) "
   ]
  },
  {
   "cell_type": "code",
   "execution_count": null,
   "metadata": {},
   "outputs": [],
   "source": []
  }
 ],
 "metadata": {
  "kernelspec": {
   "display_name": "conda_python3",
   "language": "python",
   "name": "conda_python3"
  },
  "language_info": {
   "codemirror_mode": {
    "name": "ipython",
    "version": 3
   },
   "file_extension": ".py",
   "mimetype": "text/x-python",
   "name": "python",
   "nbconvert_exporter": "python",
   "pygments_lexer": "ipython3",
   "version": "3.6.5"
  }
 },
 "nbformat": 4,
 "nbformat_minor": 2
}
