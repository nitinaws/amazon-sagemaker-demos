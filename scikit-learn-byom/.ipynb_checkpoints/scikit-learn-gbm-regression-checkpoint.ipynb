{
 "cells": [
  {
   "cell_type": "markdown",
   "metadata": {},
   "source": [
    "#### Train scikit-learn GBM algorithm locally on SageMaker Notebook"
   ]
  },
  {
   "cell_type": "code",
   "execution_count": 92,
   "metadata": {},
   "outputs": [
    {
     "name": "stdout",
     "output_type": "stream",
     "text": [
      "Automatically created module for IPython interactive environment\n",
      "MSE: 6.5290\n"
     ]
    },
    {
     "data": {
      "image/png": "[encoded data removed]",
      "text/plain": [
       "<Figure size 864x432 with 2 Axes>"
      ]
     },
     "metadata": {},
     "output_type": "display_data"
    }
   ],
   "source": [
    "%matplotlib inline\n",
    "\n",
    "print(__doc__)\n",
    "\n",
    "# Author: Peter Prettenhofer <peter.prettenhofer@gmail.com>\n",
    "#\n",
    "# License: BSD 3 clause\n",
    "\n",
    "import numpy as np\n",
    "import matplotlib.pyplot as plt\n",
    "\n",
    "from sklearn import ensemble\n",
    "from sklearn import datasets\n",
    "from sklearn.utils import shuffle\n",
    "from sklearn.metrics import mean_squared_error\n",
    "\n",
    "# #############################################################################\n",
    "# Load data\n",
    "boston = datasets.load_boston()\n",
    "X, y = shuffle(boston.data, boston.target, random_state=13)\n",
    "X = X.astype(np.float32)\n",
    "offset = int(X.shape[0] * 0.9)\n",
    "X_train, y_train = X[:offset], y[:offset]\n",
    "X_test, y_test = X[offset:], y[offset:]\n",
    "\n",
    "# #############################################################################\n",
    "# Fit regression model\n",
    "params = {'n_estimators': 500, 'max_depth': 4, 'min_samples_split': 2,\n",
    "          'learning_rate': 0.01, 'loss': 'ls'}\n",
    "clf = ensemble.GradientBoostingRegressor(**params)\n",
    "\n",
    "clf.fit(X_train, y_train)\n",
    "mse = mean_squared_error(y_test, clf.predict(X_test))\n",
    "print(\"MSE: %.4f\" % mse)\n",
    "\n",
    "# #############################################################################\n",
    "# Plot training deviance\n",
    "\n",
    "# compute test set deviance\n",
    "test_score = np.zeros((params['n_estimators'],), dtype=np.float64)\n",
    "\n",
    "for i, y_pred in enumerate(clf.staged_predict(X_test)):\n",
    "    test_score[i] = clf.loss_(y_test, y_pred)\n",
    "\n",
    "plt.figure(figsize=(12, 6))\n",
    "plt.subplot(1, 2, 1)\n",
    "plt.title('Deviance')\n",
    "plt.plot(np.arange(params['n_estimators']) + 1, clf.train_score_, 'b-',\n",
    "         label='Training Set Deviance')\n",
    "plt.plot(np.arange(params['n_estimators']) + 1, test_score, 'r-',\n",
    "         label='Test Set Deviance')\n",
    "plt.legend(loc='upper right')\n",
    "plt.xlabel('Boosting Iterations')\n",
    "plt.ylabel('Deviance')\n",
    "\n",
    "# #############################################################################\n",
    "# Plot feature importance\n",
    "feature_importance = clf.feature_importances_\n",
    "# make importances relative to max importance\n",
    "feature_importance = 100.0 * (feature_importance / feature_importance.max())\n",
    "sorted_idx = np.argsort(feature_importance)\n",
    "pos = np.arange(sorted_idx.shape[0]) + .5\n",
    "plt.subplot(1, 2, 2)\n",
    "plt.barh(pos, feature_importance[sorted_idx], align='center')\n",
    "plt.yticks(pos, boston.feature_names[sorted_idx])\n",
    "plt.xlabel('Relative Importance')\n",
    "plt.title('Variable Importance')\n",
    "plt.show()"
   ]
  },
  {
   "cell_type": "markdown",
   "metadata": {},
   "source": [
    "#### Save the trained model"
   ]
  },
  {
   "cell_type": "code",
   "execution_count": 125,
   "metadata": {},
   "outputs": [],
   "source": [
    "import pickle\n",
    "\n",
    "filename = 'model.pkl'\n",
    "pickle.dump(clf, open(filename, 'wb'))"
   ]
  },
  {
   "cell_type": "markdown",
   "metadata": {},
   "source": [
    "#### Initialize SageMaker Session"
   ]
  },
  {
   "cell_type": "code",
   "execution_count": 126,
   "metadata": {},
   "outputs": [],
   "source": [
    "import sagemaker as sage\n",
    "from time import gmtime, strftime\n",
    "from sagemaker import get_execution_role\n",
    "from sagemaker.sklearn import SKLearnModel\n",
    "\n",
    "bucket=<your s3 bucket>\n",
    "\n",
    "role = get_execution_role()\n",
    "sess = sage.Session()"
   ]
  },
  {
   "cell_type": "markdown",
   "metadata": {},
   "source": [
    "#### Compress the model and upload to S3 bucket"
   ]
  },
  {
   "cell_type": "code",
   "execution_count": 127,
   "metadata": {},
   "outputs": [
    {
     "name": "stdout",
     "output_type": "stream",
     "text": [
      "model.pkl\n"
     ]
    }
   ],
   "source": [
    "!tar -czvf model.tar.gz model.pkl\n",
    "prefix = 'scikit-gbm-pretrained/model'\n",
    "\n",
    "model_location = sess.upload_data(\"model.tar.gz\", bucket=bucket, key_prefix=prefix)\n",
    "!rm model.tar.gz"
   ]
  },
  {
   "cell_type": "markdown",
   "metadata": {},
   "source": [
    "#### Initialize the SageMaker Model using entrypoint file that provide model_fn, input_fn and output_fn. \n",
    "\n",
    "Refer to https://sagemaker.readthedocs.io/en/stable/using_sklearn.html#deploying-scikit-learn-models for details"
   ]
  },
  {
   "cell_type": "code",
   "execution_count": 135,
   "metadata": {},
   "outputs": [
    {
     "name": "stdout",
     "output_type": "stream",
     "text": [
      "import pickle\n",
      "import numpy as np\n",
      "import os\n",
      "import json\n",
      "from io import StringIO\n",
      "from six import BytesIO\n",
      "\n",
      "\n",
      "def model_fn(model_dir):\n",
      "    print(\"model_dir:{}\".format(model_dir))\n",
      "    with open(os.path.join(model_dir, 'model.pkl'), 'rb') as inp:\n",
      "        clf = pickle.load(inp)\n",
      "        return clf\n",
      "\n",
      "\n",
      "def input_fn(request_body, request_content_type):\n",
      "    \n",
      "    print(\"request_content_type :{}\".format(request_content_type))\n",
      "    \n",
      "    if request_content_type == 'text/csv':\n",
      "        # Read the raw input data as CSV.\n",
      "        npreq = np.genfromtxt(StringIO(request_body), delimiter=\",\")\n",
      "        print (\"shape of array:{}\".format(npreq.shape))\n",
      "        return npreq\n",
      "    elif request_content_type == 'application/x-npy':\n",
      "        return _npy_loads(request_body)\n",
      "    else:\n",
      "        raise ValueError(\"{} not supported by script!\".format(request_content_type))\n",
      "\n",
      "\n",
      "def output_fn(prediction, response_content_type):\n",
      "    \n",
      "    print(\"response_content_type :{}\".format(response_content_type))\n",
      "    \n",
      "    if response_content_type == \"application/x-npy\":\n",
      "        return _npy_dumps(prediction), 'application/x-npy'\n",
      "    elif response_content_type == 'text/csv':\n",
      "        output = StringIO()    \n",
      "        np.savetxt(output, prediction, delimiter='\\n')\n",
      "        return output.getvalue()\n",
      "    else:\n",
      "        raise ValueError(\"{} not supported by script!\".format(response_content_type))    \n",
      "                \n",
      "def predict_fn(input_data, model):\n",
      "    prediction = model.predict(input_data)\n",
      "    return np.array([prediction])\n",
      "\n",
      "def _npy_loads(data):\n",
      "    \"\"\"\n",
      "    Deserializes npy-formatted bytes into a numpy array\n",
      "    \"\"\"\n",
      "    stream = BytesIO(data)\n",
      "    return np.load(stream)\n",
      "\n",
      "def _npy_dumps(data):\n",
      "    \"\"\"\n",
      "    Serialized a numpy array into a stream of npy-formatted bytes.\n",
      "    \"\"\"\n",
      "    buffer = BytesIO()\n",
      "    np.save(buffer, data)\n",
      "    return buffer.getvalue()\n",
      "    "
     ]
    }
   ],
   "source": [
    "!cat gbm_predictor_entrypoint.py"
   ]
  },
  {
   "cell_type": "code",
   "execution_count": 128,
   "metadata": {},
   "outputs": [],
   "source": [
    "\n",
    "model_name = 'sagemaker-scikit-learn-gbm-' + strftime(\"%Y-%m-%d-%H-%M-%S\", gmtime())\n",
    "sklearn_model = SKLearnModel(model_data=model_location, \n",
    "                             role=role,\n",
    "                             name=model_name,\n",
    "                             entry_point=\"gbm_predictor_entrypoint.py\")\n"
   ]
  },
  {
   "cell_type": "markdown",
   "metadata": {},
   "source": [
    "#### Deploy the the model as SageMaker Endpoint"
   ]
  },
  {
   "cell_type": "code",
   "execution_count": 129,
   "metadata": {},
   "outputs": [
    {
     "name": "stdout",
     "output_type": "stream",
     "text": [
      "----------------------------------------------------------------------------------------------------!"
     ]
    }
   ],
   "source": [
    "predictor = sklearn_model.deploy(instance_type=\"ml.t2.medium\", initial_instance_count=1)"
   ]
  },
  {
   "cell_type": "markdown",
   "metadata": {},
   "source": [
    "#### Invoke Realtime Prediction"
   ]
  },
  {
   "cell_type": "code",
   "execution_count": 130,
   "metadata": {},
   "outputs": [
    {
     "data": {
      "text/plain": [
       "array([[15.45630765, 27.70431624, 24.15321751, 32.02075062, 10.42347915,\n",
       "        34.46976482, 21.86262083, 11.44006935, 13.03124197, 43.01692715,\n",
       "        33.00400493, 15.83309049, 23.89733528, 19.90679772, 25.21960401,\n",
       "        20.89320822, 13.58174696, 47.50914601, 17.60704318, 21.45384545,\n",
       "        22.45285259, 17.17153218, 16.41037479, 20.62238492, 14.51460491,\n",
       "        11.89278985, 24.58936937, 37.71601241, 30.49305468, 19.9052818 ,\n",
       "        23.1976153 , 25.22487082, 18.62201982, 30.43276044,  8.87693437,\n",
       "        13.69622405, 14.3609829 , 17.45462645, 19.83528506, 23.63952077,\n",
       "        20.30075508, 15.33379899, 25.82934672, 16.41125401, 19.17299686,\n",
       "        19.88662721, 21.39655525, 21.78775451, 24.38255215, 22.37496426,\n",
       "        22.32651597]])"
      ]
     },
     "execution_count": 130,
     "metadata": {},
     "output_type": "execute_result"
    }
   ],
   "source": [
    "predictor.predict(X_test)"
   ]
  },
  {
   "cell_type": "markdown",
   "metadata": {},
   "source": [
    "### Batch Prediction\n",
    "1. Save the Batch prediction input features(batch_input) to a CSV formatted file in S3\n",
    "2. Define output location in S3 (batch_output) where predictions will be saved"
   ]
  },
  {
   "cell_type": "code",
   "execution_count": null,
   "metadata": {},
   "outputs": [],
   "source": [
    "np.savetxt('batch_transform_input.csv', X_test, delimiter=',') \n",
    "prefix = 'scikit-gbm-pretrained/input'\n",
    "out_prefix = 'scikit-gbm-pretrained/output'\n",
    "batch_input = 's3://{}/{}'.format(bucket,prefix)\n",
    "batch_output = 's3://{}/{}'.format(bucket,out_prefix)\n",
    "sess.upload_data('batch_transform_input.csv', bucket=bucket, key_prefix=prefix)"
   ]
  },
  {
   "cell_type": "markdown",
   "metadata": {},
   "source": [
    "#### Define Batch prediction Request. We will use boto3 python package to start batch transform job\n",
    "\n",
    "Refer for more details https://boto3.amazonaws.com/v1/documentation/api/latest/reference/services/sagemaker.html#SageMaker.Client.create_transform_job"
   ]
  },
  {
   "cell_type": "code",
   "execution_count": 132,
   "metadata": {},
   "outputs": [],
   "source": [
    "batch_job_name = 'scikit-gbm-batch' + strftime(\"%Y-%m-%d-%H-%M-%S\", gmtime())\n",
    "\n",
    "request = \\\n",
    "{\n",
    "    \"TransformJobName\": batch_job_name,\n",
    "    \"ModelName\": model_name,\n",
    "    \"BatchStrategy\": \"MultiRecord\",\n",
    "    \"TransformOutput\": {\n",
    "        \"S3OutputPath\": batch_output,\n",
    "        \"Accept\": \"text/csv\",\n",
    "        \"AssembleWith\": \"Line\",\n",
    "    },\n",
    "    \"TransformInput\": {\n",
    "        \"DataSource\": {\n",
    "            \"S3DataSource\": {\n",
    "                \"S3DataType\": \"S3Prefix\",\n",
    "                \"S3Uri\": batch_input \n",
    "            }\n",
    "        },\n",
    "        \"ContentType\": \"text/csv\",\n",
    "        \"SplitType\": \"Line\",\n",
    "        \"CompressionType\": \"None\"\n",
    "    },\n",
    "    \"TransformResources\": {\n",
    "            \"InstanceType\": \"ml.m4.xlarge\",\n",
    "            \"InstanceCount\": 1\n",
    "    }\n",
    "}"
   ]
  },
  {
   "cell_type": "markdown",
   "metadata": {},
   "source": [
    "1. Create Batch prediction job\n",
    "2. Wait for job to finish\n",
    "3. Check Job run details in SageMaker console\n",
    "4. Check output predictions in CSV file in Amazon S3"
   ]
  },
  {
   "cell_type": "code",
   "execution_count": 133,
   "metadata": {},
   "outputs": [
    {
     "name": "stdout",
     "output_type": "stream",
     "text": [
      "Transform job is still in status: InProgress\n",
      "Transform job is still in status: InProgress\n",
      "Transform job is still in status: InProgress\n",
      "Transform job is still in status: InProgress\n",
      "Transform job is still in status: InProgress\n",
      "Transform job is still in status: InProgress\n",
      "Transform job is still in status: InProgress\n",
      "Transform job is still in status: InProgress\n",
      "Transform job ended with status: Completed\n"
     ]
    }
   ],
   "source": [
    "import boto3\n",
    "import time\n",
    "sm = boto3.client('sagemaker')\n",
    "\n",
    "sm.create_transform_job(**request)\n",
    "                            \n",
    "while(True):\n",
    "    response = sm.describe_transform_job(TransformJobName=batch_job_name)\n",
    "    status = response['TransformJobStatus']\n",
    "    if  status == 'Completed':\n",
    "        print(\"Transform job ended with status: \" + status)\n",
    "        break\n",
    "    if status == 'Failed':\n",
    "        message = response['FailureReason']\n",
    "        print('Transform failed with the following error: {}'.format(message))\n",
    "        raise Exception('Transform job failed') \n",
    "    print(\"Transform job is still in status: \" + status)    \n",
    "    time.sleep(30) "
   ]
  },
  {
   "cell_type": "code",
   "execution_count": null,
   "metadata": {},
   "outputs": [],
   "source": []
  }
 ],
 "metadata": {
  "kernelspec": {
   "display_name": "conda_python3",
   "language": "python",
   "name": "conda_python3"
  },
  "language_info": {
   "codemirror_mode": {
    "name": "ipython",
    "version": 3
   },
   "file_extension": ".py",
   "mimetype": "text/x-python",
   "name": "python",
   "nbconvert_exporter": "python",
   "pygments_lexer": "ipython3",
   "version": "3.6.5"
  }
 },
 "nbformat": 4,
 "nbformat_minor": 2
}
